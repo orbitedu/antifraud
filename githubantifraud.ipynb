{
  "metadata": {
    "kernelspec": {
      "display_name": "Python 3",
      "name": "python3"
    },
    "language_info": {
      "name": "python",
      "version": "3.10.13",
      "mimetype": "text/x-python",
      "codemirror_mode": {
        "name": "ipython",
        "version": 3
      },
      "pygments_lexer": "ipython3",
      "nbconvert_exporter": "python",
      "file_extension": ".py"
    },
    "kaggle": {
      "accelerator": "gpu",
      "dataSources": [
        {
          "sourceId": 8701792,
          "sourceType": "datasetVersion",
          "datasetId": 5218958
        }
      ],
      "dockerImageVersionId": 30733,
      "isInternetEnabled": true,
      "language": "python",
      "sourceType": "notebook",
      "isGpuEnabled": true
    },
    "colab": {
      "provenance": [],
      "gpuType": "T4"
    },
    "accelerator": "GPU"
  },
  "nbformat_minor": 0,
  "nbformat": 4,
  "cells": [
    {
      "cell_type": "code",
      "source": [
        "!pip install -q condacolab\n",
        "import condacolab\n",
        "condacolab.install()\n",
        "!conda --version"
      ],
      "metadata": {
        "colab": {
          "base_uri": "https://localhost:8080/"
        },
        "id": "wQOY6g_RxIFs",
        "outputId": "5553ac4c-3f65-4840-d679-d6b7bb580858"
      },
      "execution_count": 1,
      "outputs": [
        {
          "output_type": "stream",
          "name": "stdout",
          "text": [
            "\u001b[33mWARNING: Running pip as the 'root' user can result in broken permissions and conflicting behaviour with the system package manager. It is recommended to use a virtual environment instead: https://pip.pypa.io/warnings/venv\u001b[0m\u001b[33m\n",
            "\u001b[0m✨🍰✨ Everything looks OK!\n",
            "conda 23.11.0\n"
          ]
        }
      ]
    },
    {
      "cell_type": "code",
      "source": [
        "from google.colab import drive\n",
        "drive.mount('/content/drive/')"
      ],
      "metadata": {
        "colab": {
          "base_uri": "https://localhost:8080/"
        },
        "id": "QznaMR-0xtiI",
        "outputId": "cbbb1744-732c-4d8b-c6ea-6ead4d3f8af7"
      },
      "execution_count": 2,
      "outputs": [
        {
          "output_type": "stream",
          "name": "stdout",
          "text": [
            "Mounted at /content/drive/\n"
          ]
        }
      ]
    },
    {
      "cell_type": "code",
      "source": [
        "!conda install pytorch==2.1.0 torchvision==0.16.0 torchaudio==2.1.0 pytorch-cuda=12.1 torchdata -c pytorch -c nvidia"
      ],
      "metadata": {
        "collapsed": true,
        "id": "XIsBIct1K3eZ",
        "outputId": "adc6a14e-7ef1-4bec-a872-2e0ef123714d",
        "colab": {
          "base_uri": "https://localhost:8080/"
        }
      },
      "execution_count": 13,
      "outputs": [
        {
          "output_type": "stream",
          "name": "stdout",
          "text": [
            "Channels:\n",
            " - pytorch\n",
            " - nvidia\n",
            " - conda-forge\n",
            " - dglteam/label/th21_cu121\n",
            "Platform: linux-64\n",
            "Collecting package metadata (repodata.json): - \b\b\\ \b\b| \b\b/ \b\b- \b\b\\ \b\b| \b\b/ \b\b- \b\b\\ \b\b| \b\b/ \b\b- \b\b\\ \b\b| \b\b/ \b\b- \b\b\\ \b\b| \b\b/ \b\b- \b\b\\ \b\b| \b\b/ \b\b- \b\b\\ \b\b| \b\b/ \b\b- \b\b\\ \b\b| \b\b/ \b\b- \b\b\\ \b\b| \b\b/ \b\b- \b\b\\ \b\b| \b\b/ \b\b- \b\b\\ \b\b| \b\b/ \b\b- \b\b\\ \b\b| \b\b/ \b\b- \b\b\\ \b\b| \b\b/ \b\b- \b\b\\ \b\b| \b\b/ \b\b- \b\b\\ \b\b| \b\b/ \b\b- \b\b\\ \b\b| \b\b/ \b\b- \b\b\\ \b\b| \b\b/ \b\b- \b\b\\ \b\b| \b\b/ \b\b- \b\b\\ \b\b| \b\b/ \b\b- \b\b\\ \b\b| \b\b/ \b\b- \b\b\\ \b\b| \b\b/ \b\b- \b\b\\ \b\b| \b\b/ \b\b- \b\b\\ \b\b| \b\b/ \b\b- \b\b\\ \b\b| \b\b/ \b\b- \b\b\\ \b\b| \b\b/ \b\b- \b\b\\ \b\b| \b\b/ \b\b- \b\b\\ \b\b| \b\b/ \b\b- \b\b\\ \b\b| \b\b/ \b\b- \b\b\\ \b\b| \b\b/ \b\b- \b\b\\ \b\b| \b\b/ \b\b- \b\b\\ \b\b| \b\b/ \b\b- \b\b\\ \b\b| \b\b/ \b\b- \b\b\\ \b\b| \b\b/ \b\b- \b\b\\ \b\b| \b\b/ \b\b- \b\b\\ \b\b| \b\b/ \b\b- \b\b\\ \b\b| \b\b/ \b\b- \b\b\\ \b\b| \b\b/ \b\b- \b\b\\ \b\b| \b\b/ \b\b- \b\b\\ \b\b| \b\b/ \b\b- \b\b\\ \b\b| \b\b/ \b\b- \b\b\\ \b\b| \b\b/ \b\b- \b\b\\ \b\b| \b\b/ \b\b- \b\b\\ \b\b| \b\b/ \b\b- \b\b\\ \b\b| \b\b/ \b\b- \b\b\\ \b\b| \b\b/ \b\b- \b\b\\ \b\b| \b\b/ \b\b- \b\b\\ \b\b| \b\b/ \b\b- \b\b\\ \b\b| \b\b/ \b\b- \b\b\\ \b\b| \b\b/ \b\b- \b\b\\ \b\b| \b\b/ \b\b- \b\b\\ \b\b| \b\b/ \b\b- \b\b\\ \b\b| \b\b/ \b\b- \b\b\\ \b\b| \b\b/ \b\b- \b\b\\ \b\b| \b\b/ \b\b- \b\b\\ \b\b| \b\b/ \b\bdone\n",
            "Solving environment: \\ \b\b| \b\b/ \b\b- \b\b\\ \b\bdone\n",
            "\n",
            "\n",
            "==> WARNING: A newer version of conda exists. <==\n",
            "    current version: 23.11.0\n",
            "    latest version: 24.5.0\n",
            "\n",
            "Please update conda by running\n",
            "\n",
            "    $ conda update -n base -c conda-forge conda\n",
            "\n",
            "\n",
            "\n",
            "## Package Plan ##\n",
            "\n",
            "  environment location: /usr/local\n",
            "\n",
            "  added / updated specs:\n",
            "    - pytorch-cuda=12.1\n",
            "    - pytorch==2.1.0\n",
            "    - torchaudio==2.1.0\n",
            "    - torchdata\n",
            "    - torchvision==0.16.0\n",
            "\n",
            "\n",
            "The following packages will be downloaded:\n",
            "\n",
            "    package                    |            build\n",
            "    ---------------------------|-----------------\n",
            "    torchdata-0.7.1            |            py310         2.4 MB  pytorch\n",
            "    ------------------------------------------------------------\n",
            "                                           Total:         2.4 MB\n",
            "\n",
            "The following NEW packages will be INSTALLED:\n",
            "\n",
            "  torchdata          pytorch/linux-64::torchdata-0.7.1-py310 \n",
            "\n",
            "\n",
            "\n",
            "Downloading and Extracting Packages:\n",
            "                                                                        \n",
            "Preparing transaction: / \b\bdone\n",
            "Verifying transaction: \\ \b\bdone\n",
            "Executing transaction: / \b\bdone\n"
          ]
        }
      ]
    },
    {
      "cell_type": "code",
      "source": [
        "!conda install -c dglteam/label/th21_cu121 dgl"
      ],
      "metadata": {
        "collapsed": true,
        "id": "yzBByCfoSVID",
        "outputId": "78caf79c-3abf-49c3-b862-92404d0a305f",
        "colab": {
          "base_uri": "https://localhost:8080/"
        }
      },
      "execution_count": 10,
      "outputs": [
        {
          "output_type": "stream",
          "name": "stdout",
          "text": [
            "Channels:\n",
            " - dglteam/label/th21_cu121\n",
            " - conda-forge\n",
            " - nvidia\n",
            " - pytorch\n",
            "Platform: linux-64\n",
            "Collecting package metadata (repodata.json): - \b\b\\ \b\b| \b\b/ \b\b- \b\b\\ \b\b| \b\b/ \b\b- \b\b\\ \b\b| \b\b/ \b\b- \b\b\\ \b\b| \b\b/ \b\b- \b\b\\ \b\bdone\n",
            "Solving environment: / \b\b- \b\b\\ \b\b| \b\b/ \b\bdone\n",
            "\n",
            "\n",
            "==> WARNING: A newer version of conda exists. <==\n",
            "    current version: 23.11.0\n",
            "    latest version: 24.5.0\n",
            "\n",
            "Please update conda by running\n",
            "\n",
            "    $ conda update -n base -c conda-forge conda\n",
            "\n",
            "\n",
            "\n",
            "# All requested packages already installed.\n",
            "\n"
          ]
        }
      ]
    },
    {
      "cell_type": "code",
      "source": [
        "import torch;\n",
        "print(torch.__version__)\n",
        "print(torch.cuda.is_available()) # should be True\n",
        "t = torch.rand(10, 10).cuda()\n",
        "print(t.device) # should be CUDA"
      ],
      "metadata": {
        "id": "6bfmyGSDGV8a",
        "outputId": "0cb6cac0-c08c-48a2-8453-8133beb84ea4",
        "colab": {
          "base_uri": "https://localhost:8080/"
        }
      },
      "execution_count": 4,
      "outputs": [
        {
          "output_type": "stream",
          "name": "stdout",
          "text": [
            "2.1.0\n",
            "True\n",
            "cuda:0\n"
          ]
        }
      ]
    },
    {
      "cell_type": "code",
      "source": [
        "import os\n",
        "os.chdir('/content/drive/MyDrive/antifraud/')"
      ],
      "metadata": {
        "id": "qJOl7zBF1LRs"
      },
      "execution_count": 5,
      "outputs": []
    },
    {
      "cell_type": "code",
      "source": [
        "import os\n",
        "from argparse import ArgumentParser, ArgumentDefaultsHelpFormatter\n",
        "from config import Config\n",
        "from feature_engineering.data_engineering import data_engineer_benchmark, span_data_2d, span_data_3d\n",
        "import logging\n",
        "import numpy as np\n",
        "import pandas as pd\n",
        "from sklearn.model_selection import train_test_split\n",
        "import sys\n",
        "import pickle\n",
        "from scipy.io import loadmat\n",
        "import yaml\n",
        "\n",
        "logger = logging.getLogger(__name__)"
      ],
      "metadata": {
        "execution": {
          "iopub.status.busy": "2024-06-16T08:06:42.828863Z",
          "iopub.execute_input": "2024-06-16T08:06:42.829504Z",
          "iopub.status.idle": "2024-06-16T08:06:48.421402Z",
          "shell.execute_reply.started": "2024-06-16T08:06:42.829471Z",
          "shell.execute_reply": "2024-06-16T08:06:48.420479Z"
        },
        "trusted": true,
        "id": "f7kaJ4BJv6cf"
      },
      "execution_count": 6,
      "outputs": []
    },
    {
      "cell_type": "code",
      "source": [
        "import dgl"
      ],
      "metadata": {
        "id": "vC-KRaW6RdA7"
      },
      "execution_count": 14,
      "outputs": []
    },
    {
      "cell_type": "code",
      "source": [
        "def base_load_data(args: dict):\n",
        "    # load S-FFSD dataset for base models\n",
        "    data_path = \"data/S-FFSD.csv\"\n",
        "    feat_df = pd.read_csv(data_path)\n",
        "    train_size = 1 - args['test_size']\n",
        "    method = args['method']\n",
        "    # for ICONIP16 & AAAI20\n",
        "    if args['method'] == 'stan':\n",
        "        if os.path.exists(\"data/tel_3d.npy\"):\n",
        "            return\n",
        "        features, labels = span_data_3d(feat_df)\n",
        "    else:\n",
        "        if os.path.exists(\"data/tel_2d.npy\"):\n",
        "            return\n",
        "        features, labels = span_data_2d(feat_df)\n",
        "    num_trans = len(feat_df)\n",
        "    trf, tef, trl, tel = train_test_split(\n",
        "        features, labels, train_size=train_size, stratify=labels, shuffle=True)\n",
        "    trf_file, tef_file, trl_file, tel_file = args['trainfeature'], args[\n",
        "        'testfeature'], args['trainlabel'], args['testlabel']\n",
        "\n",
        "    np.save(trf_file, trf)\n",
        "    np.save(tef_file, tef)\n",
        "    np.save(trl_file, trl)\n",
        "    np.save(tel_file, tel)\n",
        "    return"
      ],
      "metadata": {
        "execution": {
          "iopub.status.busy": "2024-06-16T08:07:08.582394Z",
          "iopub.execute_input": "2024-06-16T08:07:08.583086Z",
          "iopub.status.idle": "2024-06-16T08:07:08.597235Z",
          "shell.execute_reply.started": "2024-06-16T08:07:08.583052Z",
          "shell.execute_reply": "2024-06-16T08:07:08.596017Z"
        },
        "trusted": true,
        "id": "9uXZNk93v6cf"
      },
      "execution_count": 15,
      "outputs": []
    },
    {
      "cell_type": "code",
      "source": [
        "def main(args):\n",
        "    if args['method'] == 'mcnn':\n",
        "        from methods.mcnn.mcnn_main import mcnn_main\n",
        "        base_load_data(args)\n",
        "        mcnn_main(\n",
        "            args['trainfeature'],\n",
        "            args['trainlabel'],\n",
        "            args['testfeature'],\n",
        "            args['testlabel'],\n",
        "            epochs=args['epochs'],\n",
        "            batch_size=args['batch_size'],\n",
        "            lr=args['lr'],\n",
        "            device=args['device']\n",
        "        )\n",
        "    elif args['method'] == 'stan_2d':\n",
        "        from methods.stan.stan_2d_main import stan_main\n",
        "        base_load_data(args)\n",
        "        stan_main(\n",
        "            args['trainfeature'],\n",
        "            args['trainlabel'],\n",
        "            args['testfeature'],\n",
        "            args['testlabel'],\n",
        "            mode='2d',\n",
        "            epochs=args['epochs'],\n",
        "            batch_size=args['batch_size'],\n",
        "            attention_hidden_dim=args['attention_hidden_dim'],\n",
        "            lr=args['lr'],\n",
        "            device=args['device']\n",
        "        )\n",
        "    elif args['method'] == 'stan':\n",
        "        from methods.stan.stan_main import stan_main\n",
        "        base_load_data(args)\n",
        "        stan_main(\n",
        "            args['trainfeature'],\n",
        "            args['trainlabel'],\n",
        "            args['testfeature'],\n",
        "            args['testlabel'],\n",
        "            mode='3d',\n",
        "            epochs=args['epochs'],\n",
        "            batch_size=args['batch_size'],\n",
        "            attention_hidden_dim=args['attention_hidden_dim'],\n",
        "            lr=args['lr'],\n",
        "            device=args['device']\n",
        "        )\n",
        "\n",
        "    elif args['method'] == 'stagn':\n",
        "        from methods.stagn.stagn_main import stagn_main, load_stagn_data\n",
        "        features, labels, g = load_stagn_data(args)\n",
        "        stagn_main(\n",
        "            features,\n",
        "            labels,\n",
        "            args['test_size'],\n",
        "            g,\n",
        "            mode='2d',\n",
        "            epochs=args['epochs'],\n",
        "            attention_hidden_dim=args['attention_hidden_dim'],\n",
        "            lr=args['lr'],\n",
        "            device=args['device']\n",
        "        )\n",
        "    elif args['method'] == 'gtan':\n",
        "        from methods.gtan.gtan_main import gtan_main, load_gtan_data\n",
        "        feat_data, labels, train_idx, test_idx, g, cat_features = load_gtan_data(\n",
        "            args['dataset'], args['test_size'])\n",
        "        gtan_main(\n",
        "            feat_data, g, train_idx, test_idx, labels, args, cat_features)\n",
        "    elif args['method'] == 'rgtan':\n",
        "        from methods.rgtan.rgtan_main import rgtan_main, loda_rgtan_data\n",
        "        feat_data, labels, train_idx, test_idx, g, cat_features, neigh_features = loda_rgtan_data(\n",
        "            args['dataset'], args['test_size'])\n",
        "        rgtan_main(feat_data, g, train_idx, test_idx, labels, args,\n",
        "                   cat_features, neigh_features, nei_att_head=args['nei_att_heads'][args['dataset']])\n",
        "    else:\n",
        "        raise NotImplementedError(\"Unsupported method. \")"
      ],
      "metadata": {
        "execution": {
          "iopub.status.busy": "2024-06-16T08:07:11.758433Z",
          "iopub.execute_input": "2024-06-16T08:07:11.759458Z",
          "iopub.status.idle": "2024-06-16T08:07:11.781565Z",
          "shell.execute_reply.started": "2024-06-16T08:07:11.759415Z",
          "shell.execute_reply": "2024-06-16T08:07:11.780505Z"
        },
        "trusted": true,
        "id": "gQ0zQ9brv6cg"
      },
      "execution_count": 16,
      "outputs": []
    },
    {
      "cell_type": "code",
      "source": [
        "def parse_args():\n",
        "    parser = ArgumentParser(formatter_class=ArgumentDefaultsHelpFormatter,\n",
        "                            conflict_handler='resolve')\n",
        "    parser.add_argument(\"--method\", default=str)  # specify which method to use\n",
        "    method = vars(parser.parse_args())['method']  # dict\n",
        "\n",
        "    # if method in ['']:\n",
        "    #     yaml_file = \"config/base_cfg.yaml\"\n",
        "    if method in ['mcnn']:\n",
        "        yaml_file = \"config/mcnn_cfg.yaml\"\n",
        "    elif method in ['stan']:\n",
        "        yaml_file = \"config/stan_cfg.yaml\"\n",
        "    elif method in ['stan_2d']:\n",
        "        yaml_file = \"config/stan_2d_cfg.yaml\"\n",
        "    elif method in ['stagn']:\n",
        "        yaml_file = \"config/stagn_cfg.yaml\"\n",
        "    elif method in ['gtan']:\n",
        "        yaml_file = \"config/gtan_cfg.yaml\"\n",
        "    elif method in ['rgtan']:\n",
        "        yaml_file = \"config/rgtan_cfg.yaml\"\n",
        "    else:\n",
        "        raise NotImplementedError(\"Unsupported method.\")\n",
        "\n",
        "    # config = Config().get_config()\n",
        "    with open(yaml_file) as file:\n",
        "        args = yaml.safe_load(file)\n",
        "    args['method'] = method\n",
        "\n",
        "    # WIP, add prefix of path; device to use \"cuda:0\"\n",
        "\n",
        "    return args"
      ],
      "metadata": {
        "execution": {
          "iopub.status.busy": "2024-06-16T08:07:19.889004Z",
          "iopub.execute_input": "2024-06-16T08:07:19.889775Z",
          "iopub.status.idle": "2024-06-16T08:07:19.897786Z",
          "shell.execute_reply.started": "2024-06-16T08:07:19.889743Z",
          "shell.execute_reply": "2024-06-16T08:07:19.896634Z"
        },
        "trusted": true,
        "id": "kM5av6I1v6cg"
      },
      "execution_count": 17,
      "outputs": []
    },
    {
      "cell_type": "code",
      "source": [
        "sys.argv = ['main.py', '--method', 'mcnn']\n",
        "main(parse_args())"
      ],
      "metadata": {
        "execution": {
          "iopub.status.busy": "2024-06-16T08:24:10.407986Z",
          "iopub.execute_input": "2024-06-16T08:24:10.408617Z",
          "iopub.status.idle": "2024-06-16T08:46:42.029206Z",
          "shell.execute_reply.started": "2024-06-16T08:24:10.408587Z",
          "shell.execute_reply": "2024-06-16T08:46:42.027855Z"
        },
        "trusted": true,
        "colab": {
          "base_uri": "https://localhost:8080/"
        },
        "id": "Kp3nZQ3hv6cg",
        "outputId": "cb380a11-d933-4f33-f930-6074ec0c796e"
      },
      "execution_count": 18,
      "outputs": [
        {
          "output_type": "stream",
          "name": "stderr",
          "text": [
            "100%|██████████| 29643/29643 [24:12<00:00, 20.40it/s]\n",
            "/usr/local/lib/python3.10/site-packages/torch/nn/modules/lazy.py:180: UserWarning: Lazy modules are a new feature under heavy development so changes to the API or functionality can happen at any moment.\n",
            "  warnings.warn('Lazy modules are a new feature under heavy development '\n"
          ]
        },
        {
          "output_type": "stream",
          "name": "stdout",
          "text": [
            "Epoch: 0, loss: 1.2741, auc: 0.6433, F1: 0.5395, AP: 0.2393\n",
            "Epoch: 1, loss: 0.9441, auc: 0.6695, F1: 0.5496, AP: 0.2540\n",
            "Epoch: 2, loss: 0.8201, auc: 0.6590, F1: 0.5088, AP: 0.2443\n",
            "Epoch: 3, loss: 0.9220, auc: 0.6463, F1: 0.4760, AP: 0.2360\n",
            "Epoch: 4, loss: 1.5775, auc: 0.6599, F1: 0.5125, AP: 0.2451\n",
            "Epoch: 5, loss: 1.1834, auc: 0.6925, F1: 0.5795, AP: 0.2714\n",
            "Epoch: 6, loss: 0.9784, auc: 0.6931, F1: 0.5533, AP: 0.2671\n",
            "Epoch: 7, loss: 1.7334, auc: 0.6918, F1: 0.5892, AP: 0.2731\n",
            "Epoch: 8, loss: 1.0412, auc: 0.7043, F1: 0.6448, AP: 0.2989\n",
            "Epoch: 9, loss: 0.8395, auc: 0.6903, F1: 0.6154, AP: 0.2795\n",
            "Epoch: 10, loss: 0.6622, auc: 0.6851, F1: 0.6011, AP: 0.2724\n",
            "Epoch: 11, loss: 0.5950, auc: 0.7067, F1: 0.6732, AP: 0.3178\n",
            "Epoch: 12, loss: 0.6719, auc: 0.7026, F1: 0.6700, AP: 0.3137\n",
            "Epoch: 13, loss: 0.7234, auc: 0.7044, F1: 0.6423, AP: 0.2978\n",
            "Epoch: 14, loss: 0.7256, auc: 0.7000, F1: 0.6525, AP: 0.3010\n",
            "Epoch: 15, loss: 0.5922, auc: 0.7003, F1: 0.6643, AP: 0.3086\n",
            "Epoch: 16, loss: 0.6801, auc: 0.7053, F1: 0.6638, AP: 0.3105\n",
            "Epoch: 17, loss: 0.6450, auc: 0.6997, F1: 0.6517, AP: 0.3003\n",
            "Epoch: 18, loss: 0.6362, auc: 0.6947, F1: 0.6684, AP: 0.3094\n",
            "Epoch: 19, loss: 0.7902, auc: 0.6927, F1: 0.6555, AP: 0.2995\n",
            "Epoch: 20, loss: 1.0344, auc: 0.7051, F1: 0.6510, AP: 0.3026\n",
            "Epoch: 21, loss: 0.6892, auc: 0.7005, F1: 0.6693, AP: 0.3124\n",
            "Epoch: 22, loss: 0.5560, auc: 0.7012, F1: 0.6765, AP: 0.3185\n",
            "Epoch: 23, loss: 0.6004, auc: 0.7078, F1: 0.6803, AP: 0.3240\n",
            "Epoch: 24, loss: 0.6026, auc: 0.7147, F1: 0.6612, AP: 0.3132\n",
            "Epoch: 25, loss: 0.5611, auc: 0.7429, F1: 0.6738, AP: 0.3353\n",
            "Epoch: 26, loss: 0.5680, auc: 0.7460, F1: 0.6568, AP: 0.3275\n",
            "Epoch: 27, loss: 0.5748, auc: 0.7331, F1: 0.6380, AP: 0.3116\n",
            "Epoch: 28, loss: 0.8600, auc: 0.7273, F1: 0.6270, AP: 0.3040\n",
            "Epoch: 29, loss: 0.6345, auc: 0.7169, F1: 0.6101, AP: 0.2926\n",
            "test set | auc: 0.7405, F1: 0.6451, AP: 0.3187\n"
          ]
        }
      ]
    }
  ]
}